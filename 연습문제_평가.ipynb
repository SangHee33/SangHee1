{
  "nbformat": 4,
  "nbformat_minor": 0,
  "metadata": {
    "colab": {
      "provenance": [],
      "include_colab_link": true
    },
    "kernelspec": {
      "name": "python3",
      "display_name": "Python 3"
    },
    "language_info": {
      "name": "python"
    }
  },
  "cells": [
    {
      "cell_type": "markdown",
      "metadata": {
        "id": "view-in-github",
        "colab_type": "text"
      },
      "source": [
        "<a href=\"https://colab.research.google.com/github/SangHee33/SangHee1/blob/main/%EC%97%B0%EC%8A%B5%EB%AC%B8%EC%A0%9C_%ED%8F%89%EA%B0%80.ipynb\" target=\"_parent\"><img src=\"https://colab.research.google.com/assets/colab-badge.svg\" alt=\"Open In Colab\"/></a>"
      ]
    },
    {
      "cell_type": "code",
      "metadata": {
        "id": "4Zqc4O_BfWqZ"
      },
      "source": [
        "# 모듈 및 데이터 로드 \n",
        "from sklearn.datasets import load_breast_cancer \n",
        "from sklearn.linear_model import LogisticRegression \n",
        "\n",
        "data = load_breast_cancer() \n",
        "\n",
        "# x, y 데이터 생성 \n",
        "X = data.data \n",
        "\n",
        "# 악성을 1, 양성을 0으로 \n",
        "y = 1 - data.target \n",
        "\n",
        "# 특징으로 사용할 데이터를 평균으로 구분하는 10개 열로 축소\n",
        "X = X[:, :10] \n",
        "\n",
        "# 로지스틱 회귀 모델 생성 \n",
        "model_lor = LogisticRegression(solver = 'lbfgs') \n",
        "model_lor.fit(X,y) \n",
        "y_pred = model_lor.predict(X)"
      ],
      "execution_count": 5,
      "outputs": []
    },
    {
      "cell_type": "markdown",
      "metadata": {
        "id": "faoAfc1ZgAcq"
      },
      "source": [
        "* 오차 행렬(혼동 행렬) 생성"
      ]
    },
    {
      "cell_type": "code",
      "metadata": {
        "id": "JdML8YM0gBtu",
        "colab": {
          "base_uri": "https://localhost:8080/"
        },
        "outputId": "5dc52cef-8ed3-44e8-838e-9009926dedf9"
      },
      "source": [
        "# 종속 변수와 예측 결과로 혼동 행렬 생성\n",
        "from sklearn.metrics import confusion_matrix\n",
        "\n",
        "cm = confusion_matrix(y,y_pred)\n",
        "cm"
      ],
      "execution_count": 8,
      "outputs": [
        {
          "output_type": "execute_result",
          "data": {
            "text/plain": [
              "array([[337,  20],\n",
              "       [ 30, 182]])"
            ]
          },
          "metadata": {},
          "execution_count": 8
        }
      ]
    },
    {
      "cell_type": "markdown",
      "metadata": {
        "id": "xbcK3rT-gFRk"
      },
      "source": [
        "* 정확도"
      ]
    },
    {
      "cell_type": "code",
      "metadata": {
        "id": "NLiXFuYvgI1e",
        "colab": {
          "base_uri": "https://localhost:8080/"
        },
        "outputId": "b48647ec-31a7-454d-e6c8-5713817beb79"
      },
      "source": [
        "# 정확도 = (TN+TP) / (TN+FP+FN+TP)\n",
        "(cm[0,0]+cm[1,1]) / (cm[0,0]+cm[0,1]+cm[1,0]+cm[1,1])"
      ],
      "execution_count": 9,
      "outputs": [
        {
          "output_type": "execute_result",
          "data": {
            "text/plain": [
              "0.9121265377855887"
            ]
          },
          "metadata": {},
          "execution_count": 9
        }
      ]
    },
    {
      "cell_type": "markdown",
      "metadata": {
        "id": "UYnVZS9igNNf"
      },
      "source": [
        "* 정밀도"
      ]
    },
    {
      "cell_type": "code",
      "metadata": {
        "id": "j108NueLgMKF",
        "colab": {
          "base_uri": "https://localhost:8080/"
        },
        "outputId": "98cf7502-33fa-456c-e27c-8c22a263c86a"
      },
      "source": [
        "# 정밀도 = TP / (FP+TP)\n",
        "cm[1,1] / (cm[0,1]+cm[1,1])"
      ],
      "execution_count": 10,
      "outputs": [
        {
          "output_type": "execute_result",
          "data": {
            "text/plain": [
              "0.900990099009901"
            ]
          },
          "metadata": {},
          "execution_count": 10
        }
      ]
    },
    {
      "cell_type": "markdown",
      "metadata": {
        "id": "2-MBquNJZOM4"
      },
      "source": [
        "* 재현율"
      ]
    },
    {
      "cell_type": "code",
      "metadata": {
        "id": "uje4ivPvZPwv",
        "colab": {
          "base_uri": "https://localhost:8080/"
        },
        "outputId": "03ff0070-a737-4334-f771-c6a9fac50e97"
      },
      "source": [
        "# 재현율 = TP / (FN+TP)\n",
        "cm[1,1] / (cm[1,0]+cm[1,1])"
      ],
      "execution_count": 11,
      "outputs": [
        {
          "output_type": "execute_result",
          "data": {
            "text/plain": [
              "0.8584905660377359"
            ]
          },
          "metadata": {},
          "execution_count": 11
        }
      ]
    },
    {
      "cell_type": "code",
      "source": [
        "from sklearn.metrics import accuracy_score, precision_score, recall_score, confusion_matrix\n",
        "def get_clf_eval(y,y_pred):\n",
        "  confusion = confusion_matrix(y,y_pred)\n",
        "  accuracy = accuracy_score(y,y_pred)\n",
        "  precision = precision_score(y,y_pred)\n",
        "  recall = recall_score(y,y_pred)\n",
        "  print('오차행렬')\n",
        "  print(confusion)\n",
        "  print('정확도: {0:.4f}, 정밀도: {1:.4f}, 재현율: {2:.4f}'.format(accuracy, precision, recall))\n",
        "\n",
        "get_clf_eval(y,y_pred)"
      ],
      "metadata": {
        "colab": {
          "base_uri": "https://localhost:8080/"
        },
        "id": "4-_RaxVQJ2r0",
        "outputId": "17e37585-0d48-470f-8bc6-c5df0ad46705"
      },
      "execution_count": 14,
      "outputs": [
        {
          "output_type": "stream",
          "name": "stdout",
          "text": [
            "오차행렬\n",
            "[[337  20]\n",
            " [ 30 182]]\n",
            "정확도: 0.9121, 정밀도: 0.9010, 재현율: 0.8585\n"
          ]
        }
      ]
    },
    {
      "cell_type": "markdown",
      "metadata": {
        "id": "Cw1p3yjagUCH"
      },
      "source": [
        "* F1 score"
      ]
    },
    {
      "cell_type": "code",
      "metadata": {
        "id": "hPdtYdoDgYgV",
        "colab": {
          "base_uri": "https://localhost:8080/"
        },
        "outputId": "9c52afe4-db7f-4bc5-db57-7047f98b4ba9"
      },
      "source": [
        "from sklearn.metrics import f1_score\n",
        "f1 = f1_score(y,y_pred)\n",
        "f1"
      ],
      "execution_count": 15,
      "outputs": [
        {
          "output_type": "execute_result",
          "data": {
            "text/plain": [
              "0.8792270531400966"
            ]
          },
          "metadata": {},
          "execution_count": 15
        }
      ]
    },
    {
      "cell_type": "markdown",
      "metadata": {
        "id": "fzwIFsKOW5a1"
      },
      "source": [
        "* 예측 확률(pred_proba) : 0으로 예측할 확률이 0.1보다 크면 y_pred2 에 넣는다 가정."
      ]
    },
    {
      "cell_type": "code",
      "metadata": {
        "id": "nw9dxOiPW40l"
      },
      "source": [
        "from sklearn.preprocessing import Binarizer\n",
        "\n",
        "pred_proba = model_lor.predict_proba(X)\n",
        "pred_proba1 = pred_proba[:,1].reshape(-1,1)\n",
        "y_pred2 = Binarizer(threshold = 0.1).fit_transform(pred_proba1)"
      ],
      "execution_count": 25,
      "outputs": []
    },
    {
      "cell_type": "code",
      "metadata": {
        "id": "Y-WrHrICYFB1",
        "colab": {
          "base_uri": "https://localhost:8080/"
        },
        "outputId": "4795c4b0-efc0-42d4-8b01-9409bbf69f3e"
      },
      "source": [
        "# y과 y_pred2의 혼동행렬, 정확도, 정밀도, 재현율, f1 score 구하기\n",
        "from sklearn.metrics import accuracy_score, precision_score, recall_score, confusion_matrix, f1_score\n",
        "def get_clf_eval(y,y_pred2):\n",
        "  confusion = confusion_matrix(y,y_pred2)\n",
        "  accuracy = accuracy_score(y,y_pred2)\n",
        "  precision = precision_score(y,y_pred2)\n",
        "  recall = recall_score(y,y_pred2)\n",
        "  f1 = f1_score(y,y_pred2)\n",
        "  print('오차행렬')\n",
        "  print(confusion)\n",
        "  print('정확도: {0:.4f}, 정밀도: {1:.4f}, 재현율: {2:.4f}, f1 score: {3:.4f}'.format(accuracy, precision, recall,f1))\n",
        "\n",
        "get_clf_eval(y,y_pred2)"
      ],
      "execution_count": 26,
      "outputs": [
        {
          "output_type": "stream",
          "name": "stdout",
          "text": [
            "오차행렬\n",
            "[[267  90]\n",
            " [  6 206]]\n",
            "정확도: 0.8313, 정밀도: 0.6959, 재현율: 0.9717, f1 score: 0.8110\n"
          ]
        }
      ]
    },
    {
      "cell_type": "markdown",
      "metadata": {
        "id": "itgf_OjsjU-R"
      },
      "source": [
        "* ROC 곡선 시각화"
      ]
    },
    {
      "cell_type": "code",
      "metadata": {
        "id": "DW75xBokjXKy",
        "colab": {
          "base_uri": "https://localhost:8080/"
        },
        "outputId": "ded2d188-d150-4978-8b73-b19ecd709d1f"
      },
      "source": [
        "from sklearn.metrics import roc_curve \n",
        "\n",
        "pred_proba_class1 = model_lor.predict_proba(X)[:,1]\n",
        "fprs, tprs, thresholds = roc_curve(y, pred_proba_class1)\n",
        "print(fprs,tprs,thresholds)"
      ],
      "execution_count": 27,
      "outputs": [
        {
          "output_type": "stream",
          "name": "stdout",
          "text": [
            "[0.         0.         0.         0.00280112 0.00280112 0.00560224\n",
            " 0.00560224 0.00840336 0.00840336 0.01120448 0.01120448 0.0140056\n",
            " 0.0140056  0.01680672 0.01680672 0.02240896 0.02240896 0.03081232\n",
            " 0.03081232 0.03641457 0.03641457 0.03921569 0.03921569 0.04201681\n",
            " 0.04201681 0.04761905 0.04761905 0.05602241 0.05602241 0.05882353\n",
            " 0.05882353 0.06162465 0.06162465 0.06442577 0.06442577 0.07282913\n",
            " 0.07282913 0.07843137 0.07843137 0.08683473 0.08683473 0.10364146\n",
            " 0.10364146 0.10644258 0.10644258 0.11484594 0.11484594 0.11764706\n",
            " 0.11764706 0.13165266 0.13165266 0.14005602 0.14005602 0.17927171\n",
            " 0.17927171 0.20448179 0.20448179 0.21568627 0.21568627 0.25490196\n",
            " 0.25490196 0.27170868 0.27170868 0.27731092 0.27731092 0.33613445\n",
            " 0.33613445 0.36414566 0.36414566 0.62464986 0.62464986 1.        ] [0.         0.00471698 0.58490566 0.58490566 0.66981132 0.66981132\n",
            " 0.71698113 0.71698113 0.73113208 0.73113208 0.74056604 0.74056604\n",
            " 0.75       0.75       0.75943396 0.75943396 0.80188679 0.80188679\n",
            " 0.80660377 0.80660377 0.81132075 0.81132075 0.81603774 0.81603774\n",
            " 0.8254717  0.8254717  0.83490566 0.83490566 0.87264151 0.87264151\n",
            " 0.87735849 0.87735849 0.88207547 0.88207547 0.89150943 0.89150943\n",
            " 0.91037736 0.91037736 0.91981132 0.91981132 0.9245283  0.9245283\n",
            " 0.93396226 0.93396226 0.93867925 0.93867925 0.94339623 0.94339623\n",
            " 0.94811321 0.94811321 0.95283019 0.95283019 0.95754717 0.95754717\n",
            " 0.96226415 0.96226415 0.96698113 0.96698113 0.97169811 0.97169811\n",
            " 0.97641509 0.97641509 0.98113208 0.98113208 0.98584906 0.98584906\n",
            " 0.99056604 0.99056604 0.99528302 0.99528302 1.         1.        ] [1.99999991e+00 9.99999913e-01 9.54550199e-01 9.54209434e-01\n",
            " 8.77823166e-01 8.77447674e-01 8.11134581e-01 8.10538985e-01\n",
            " 8.01990069e-01 7.99315419e-01 7.87584234e-01 7.79177586e-01\n",
            " 7.73965788e-01 7.67128878e-01 7.39108300e-01 7.31573356e-01\n",
            " 6.88845852e-01 6.65591045e-01 6.52465213e-01 6.26015594e-01\n",
            " 6.21809764e-01 6.15584525e-01 6.06433956e-01 6.02009757e-01\n",
            " 5.89164639e-01 5.69462099e-01 5.58995912e-01 5.44494636e-01\n",
            " 4.77185510e-01 4.67290533e-01 4.59729631e-01 4.52212084e-01\n",
            " 4.41080708e-01 4.26234085e-01 4.20563902e-01 4.03614864e-01\n",
            " 3.79580832e-01 3.69243339e-01 3.66015649e-01 3.57433396e-01\n",
            " 3.55158887e-01 3.12002181e-01 3.06775308e-01 2.95444962e-01\n",
            " 2.89923664e-01 2.73092763e-01 2.69971053e-01 2.49368156e-01\n",
            " 2.41535105e-01 2.20575491e-01 2.07971343e-01 2.02822497e-01\n",
            " 1.97290749e-01 1.54050304e-01 1.51246979e-01 1.31413536e-01\n",
            " 1.30889793e-01 1.29194807e-01 1.27935640e-01 9.97662380e-02\n",
            " 9.92842058e-02 9.11590899e-02 8.98802987e-02 8.86430224e-02\n",
            " 8.70592956e-02 6.48668696e-02 6.48563327e-02 5.65357706e-02\n",
            " 5.56892222e-02 1.38567274e-02 1.35364692e-02 2.85547539e-05]\n"
          ]
        }
      ]
    },
    {
      "cell_type": "code",
      "metadata": {
        "id": "CSJ69SGJVh7m",
        "colab": {
          "base_uri": "https://localhost:8080/",
          "height": 473
        },
        "outputId": "541b4776-3593-4eee-d8d6-6b623dfb41b7"
      },
      "source": [
        "import matplotlib.pyplot as plt \n",
        "plt.plot(fprs, tprs, label='ROC')\n",
        "plt.plot([0,1],[0,1],'k--',label='Random')\n",
        "plt.xlim(0,1); plt.ylim(0,1)\n",
        "plt.xlabel('FPR( 1-Sensitivity )'); plt.ylabel('TPR( Recall )')\n",
        "plt.legend()"
      ],
      "execution_count": 28,
      "outputs": [
        {
          "output_type": "execute_result",
          "data": {
            "text/plain": [
              "<matplotlib.legend.Legend at 0x7fbfd3b9dca0>"
            ]
          },
          "metadata": {},
          "execution_count": 28
        },
        {
          "output_type": "display_data",
          "data": {
            "text/plain": [
              "<Figure size 640x480 with 1 Axes>"
            ],
            "image/png": "[encoded data removed]"
          },
          "metadata": {}
        }
      ]
    },
    {
      "cell_type": "markdown",
      "metadata": {
        "id": "fL4as0YsWYD7"
      },
      "source": [
        "* ROC AUC 값"
      ]
    },
    {
      "cell_type": "code",
      "metadata": {
        "id": "-SEElVZTWaVp",
        "colab": {
          "base_uri": "https://localhost:8080/"
        },
        "outputId": "156ebad2-b3b9-4aa4-f618-cda1186806da"
      },
      "source": [
        "from sklearn.metrics import roc_auc_score\n",
        "roc_auc = roc_auc_score(y,pred_proba[:,1])\n",
        "print(roc_auc)"
      ],
      "execution_count": 30,
      "outputs": [
        {
          "output_type": "stream",
          "name": "stdout",
          "text": [
            "0.9741424871835527\n"
          ]
        }
      ]
    }
  ]
}