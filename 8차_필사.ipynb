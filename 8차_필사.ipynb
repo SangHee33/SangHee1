{
  "nbformat": 4,
  "nbformat_minor": 0,
  "metadata": {
    "colab": {
      "provenance": [],
      "authorship_tag": "ABX9TyNvLqZOZVH1+pJ6n1m1JgXf",
      "include_colab_link": true
    },
    "kernelspec": {
      "name": "python3",
      "display_name": "Python 3"
    },
    "language_info": {
      "name": "python"
    }
  },
  "cells": [
    {
      "cell_type": "markdown",
      "metadata": {
        "id": "view-in-github",
        "colab_type": "text"
      },
      "source": [
        "<a href=\"https://colab.research.google.com/github/SangHee33/SangHee1/blob/main/8%EC%B0%A8_%ED%95%84%EC%82%AC.ipynb\" target=\"_parent\"><img src=\"https://colab.research.google.com/assets/colab-badge.svg\" alt=\"Open In Colab\"/></a>"
      ]
    },
    {
      "cell_type": "markdown",
      "source": [
        "p. 147~174"
      ],
      "metadata": {
        "id": "pWpFfl711eqs"
      }
    },
    {
      "cell_type": "markdown",
      "source": [
        "# 평가"
      ],
      "metadata": {
        "id": "7v4kI_h21jcQ"
      }
    },
    {
      "cell_type": "markdown",
      "source": [
        "* 머신러닝은 데이터 가공/변환, 모델 학습/예측, 평가의 프로세스로 구성\n",
        "* 성능 평가 지표는 일반적으로 모델이 분류냐 회귀냐에 따라 여러 종류로 나뉨\n",
        "* 회귀의 경우 대부분 실제값과 예측값의 오차 평균값에 기반\n",
        "* 분류는 일반적으로 실제 결과 데이터와 예측 결과 데이터가 얼마나 정확하고 오류가 적게 발생하는가에 기반"
      ],
      "metadata": {
        "id": "XRVqAh89125c"
      }
    },
    {
      "cell_type": "markdown",
      "source": [
        "### 분류의 성능 평가 지표\n",
        "* 정확도(Accuracy)\n",
        "* 오차행렬(Confusion Matrix)\n",
        "* 정밀도(Precision)\n",
        "* F1 스코어\n",
        "* ROC AUC\n",
        "분류는 결정 클래스 값 종류의 유형에 따라 긍정/부정과 같은 2개의 결괏값만을 가지는 이진 분류와 여러 개의 결정 클래스 값을 가지는 멀티 분류"
      ],
      "metadata": {
        "id": "jtDxJUCV5c2W"
      }
    },
    {
      "cell_type": "markdown",
      "source": [
        "### 정확도(Accuracy) : 실제 데이터에서 예측 데이터가 얼마나 같은지를 판단하는 지표\n",
        "정확도 = 예측 결과가 동일하나 데이터 건수 / 전체 예측 데이터 건수"
      ],
      "metadata": {
        "id": "2n91dD546XX6"
      }
    },
    {
      "cell_type": "code",
      "execution_count": null,
      "metadata": {
        "id": "WaX5BSs3y3W8"
      },
      "outputs": [],
      "source": [
        "from sklearn.base import BaseEstimator\n",
        "\n",
        "class MyDummyClassifier(BaseEstimator):\n",
        "  # fit() 메서드는 아무것도 학습하지 안음.\n",
        "  def fit(self, X, y=None):\n",
        "    pass\n",
        "  #predict() 메서드는 단순히 Sex 피처가 1이면0, 그렇지 않으면 1로 예측함.\n",
        "  def predict(self, X):\n",
        "    pred = np.zeros((X.shape[0],1))\n",
        "    for i in range (X.shape[0]):\n",
        "      if X['Sex'].iloc[i] == 1:\n",
        "        pred[i]=0\n",
        "      else :\n",
        "        pred[i]=1\n",
        "    return pred"
      ]
    },
    {
      "cell_type": "code",
      "source": [
        "import pandas as pd\n",
        "from sklearn.model_selection import train_test_split\n",
        "from sklearn.metrics import accuracy_score\n",
        "\n",
        "# 원본 데이터를 재로딩, 데이터 가공, 학습 데이터/테스트 데이터 분할.\n",
        "titanic_df = pd.read_csv('/content/train.csv')\n",
        "y_titanic_df = titanic_df['Survived']\n",
        "X_titanic_df = titanic_df.drop('Survived',axis=1)\n",
        "X_titanic_df = transform_features(X_titanic_df)\n",
        "X_titanic, X_test, y_train, y_test=train_test_split(X_titanic_df,y_titanic_df,test_size=0.2,random_state=0)\n",
        "\n",
        "# 위에서 생성한 Dummy Classifier를 이용해 학습/예측/평가 수행.\n",
        "myclf = MyDummyClassifier()\n",
        "myclf.fit(X_train,y_train)\n",
        "\n",
        "mypredictions = myclf.predict(X_test)\n",
        "print('Dummy Classifier의 정확도는: {0:.4f}'.format(accuracy_score(y_test, mypredictions)))"
      ],
      "metadata": {
        "id": "UT3pGTCxNI1_"
      },
      "execution_count": null,
      "outputs": []
    },
    {
      "cell_type": "code",
      "source": [
        "from sklearn.datasets import load_digits\n",
        "from sklearn.model_selection import train_test_split\n",
        "from sklearn.base import BaseEstimator\n",
        "from sklearn.metrics import accuracy_score\n",
        "import numpy as np\n",
        "import pandas as pd\n",
        "\n",
        "class MyFakeClassifier(BaseEstimator):\n",
        "  def fit(self,X,y):\n",
        "    pass\n",
        "\n",
        "  #입력값으로 들어오는 X 데이터 세트의 크기만큼 모두 0값으로 만들어서 반환\n",
        "  def predict(self,X):\n",
        "    return np.zeros((len(X,1),dtype=bool)\n",
        "\n",
        "# 사이킷런의 내장 데이터 세트인 load_digits()를 이용해 MNIST 데이터 로딩\n",
        "digits = load_digits()\n",
        "\n",
        "# digits 번호가 7번이면 True이고 이를 astype(int)로 1로 변환, 7번이 아니면 False이고 0으로 변환.\n",
        "y = (digits.target == 7).astype(int)\n",
        "X_train, X_test, y_train, y_test = train_test_split(digits.data, y, random_state=11)"
      ],
      "metadata": {
        "id": "sWjMUzmDNKhw"
      },
      "execution_count": null,
      "outputs": []
    },
    {
      "cell_type": "code",
      "source": [
        "# 불균횽한 레이블 데이터 분포도 확인.\n",
        "print('레이블 테스트 세트 크기 :',y_test.shape)\n",
        "print('테스트 세트 레이블 0고 1의 분포도')\n",
        "print(pd.Series(y_test).value_counts())\n",
        "\n",
        "# Dummy Classifier로 학습/예측/정확도 평가\n",
        "fakeclf = MyFakeClassifier()\n",
        "fakeclf.fit(X_train,y_train)\n",
        "fakepred = fakeclf.predict(X_test)\n",
        "print('모든 예측을 0으로 하여도 정확도는:{:.3f}'.format(accuracy_score(y_test,fakepred)))"
      ],
      "metadata": {
        "id": "XjRhO7foNL_I"
      },
      "execution_count": null,
      "outputs": []
    },
    {
      "cell_type": "markdown",
      "source": [
        "# 오차 행렬(onfusion matrix, 혼동행렬)\n",
        ": 학습된 분류 모델이 예측을 수행하면서 얼마나 헷갈리고(confused) 있는지도 함께 보여주는 지표"
      ],
      "metadata": {
        "id": "QY6YDu7XBlD-"
      }
    },
    {
      "cell_type": "code",
      "source": [
        "from sklearn.metrics import confusion_matrix\n",
        "\n",
        "confusion_matrix(y_test,fakepred)"
      ],
      "metadata": {
        "id": "jzYQMDczNOo3"
      },
      "execution_count": null,
      "outputs": []
    },
    {
      "cell_type": "markdown",
      "source": [
        "정확도 = 예측 결과와 실제 값이 동일하나 건수/전체 데이터 수 = (TN+TP)/(TN+FP+FN+TP)"
      ],
      "metadata": {
        "id": "Qjvg2bIjD-fw"
      }
    },
    {
      "cell_type": "markdown",
      "source": [
        "# 정밀도와 재현율\n",
        "정밀도 = TP / (FP + TP)\n",
        "\n",
        "재현율 = TP / (FN + TP)"
      ],
      "metadata": {
        "id": "MIT6MMQNELbC"
      }
    },
    {
      "cell_type": "markdown",
      "source": [
        "* 재현율이 상대적으로 더 중요한 지표인 경우는 실제 Positive 양성인 데이터 예측을 Negative로 잘못 판단하게 되면 업무상 큰 영향이 발생하는 경우\n",
        "* 정밀도가 상대적으로 더 중요한 지표인 경우는 실제 Negative 음성인 데이터 예측을 Positive 양성으로 잘못 판단하게 되면 업무상 큰 영향이 발생하는 경우"
      ],
      "metadata": {
        "id": "fqvI8L31NRA8"
      }
    },
    {
      "cell_type": "code",
      "source": [
        "from sklearn.metrics import accuracy_score, precision_score , recall_score , confusion_matrix\n",
        "\n",
        "def get_clf_eval(y_test , pred):\n",
        "    confusion = confusion_matrix(y_test, pred)\n",
        "    accuracy = accuracy_score(y_test, pred)\n",
        "    precision = precision_score(y_test , pred)\n",
        "    recall = recall_score(y_test, pred)\n",
        "    print('오차 행렬')\n",
        "    print(confusion)\n",
        "    print('정확도: {0:.4f}, 정밀도: {1:.4f}, 재현율: {2:.4f}'.format(accuracy, precision, recall))"
      ],
      "metadata": {
        "id": "-r8_waoINSxf"
      },
      "execution_count": null,
      "outputs": []
    },
    {
      "cell_type": "code",
      "source": [
        "import pandas as pd\n",
        "from sklearn.model_selection import train_test_split \n",
        "from sklearn.linear_model import LogisticRegression\n",
        "\n",
        "# 원본 데이터를 재로딩, 데이터 가공, 학습 데이터/테스트 데이터 분할\n",
        "titanic_df = pd.read_csv('/content/train.csv')\n",
        "y_titanic_df = titanic_df['Survived']\n",
        "X_titanic_df= titanic_df.drop('Survived', axis = 1)\n",
        "X_titanic_df = transform_features(X_titanic_df)\n",
        "X_train, X_test, y_train, y_test = train_test_split(X_titanic_df, y_titanic_df, test_size=0.20, random_state=11)\n",
        "\n",
        "lr_clf = LogisticRegression()\n",
        "\n",
        "lr_clf.fit(X_train, y_train)\n",
        "pred = lr_clf.predict(X_test)\n",
        "get_clf_eval(y_test, pred)"
      ],
      "metadata": {
        "id": "Pzo5EWw1NUXa"
      },
      "execution_count": null,
      "outputs": []
    },
    {
      "cell_type": "markdown",
      "source": [
        "### 정밀도/재현율 트레이드오프\n",
        ": 정밀도와 재현율은 상호 보완적인 평가 지표이기 때문에 어느 한쪽을 강제로 높이면 다른 하나의 수치는 떨어지기 쉬움\n",
        "\n",
        "* 개별 데이터별로 예측 확률을 반환하는 메서드인 predict_proba()\n",
        "* predict() 메서드와 유사하지만 반환 결과가 예측 결과 클래스값이 아닌 예측 확률 결과"
      ],
      "metadata": {
        "id": "ed84RksSNx60"
      }
    },
    {
      "cell_type": "code",
      "source": [
        "pred_proba = lr_clf.predict_proba(X_test)\n",
        "pred = lr_clf.predict(X_test)\n",
        "print('pred_proba() 결과 Shape : {0}'.format(pred_proba.shape))\n",
        "print('pred_proba array에서 앞 3개만 샘플로 추출 \\n:', pred_proba[:3])\n",
        "\n",
        "# 예측 확률 array와 예측 결괏값 array를 병합(concatenate)해 예측 확률과 결괏값을 한눈에 확인\n",
        "pred_proba_result = np.concatenate([pred_proba, pred.reshape(-1,1)], axis=1)\n",
        "print('두 개의 class 중에서 더 큰 확률을 클래스 값으로 예측 \\n', pred_proba_result[:3])"
      ],
      "metadata": {
        "id": "NaezgIBRNXF0"
      },
      "execution_count": null,
      "outputs": []
    },
    {
      "cell_type": "markdown",
      "source": [
        "Binarier 객체의 fit_transform() 메서드를 이용해 넘파이 ndarray를 입력하면 입력된 ndarray의 값을 지정된 threhold보다 같거나 작으면 0값으로, 크면 1값으로 변환해 반환"
      ],
      "metadata": {
        "id": "1mt9bgItQJFY"
      }
    },
    {
      "cell_type": "code",
      "source": [
        "from sklearn.preprocessing import Binarizer\n",
        "\n",
        "X = [[1,-1,2],\n",
        "     [2,0,0],\n",
        "     [0,1.1,1.2]]\n",
        "\n",
        "# X의 개별 원소들이 threshold값보다 같거나 작으면 0을, 크면 1을 반환\n",
        "binarizer = Binarizer(threshold=1.1)\n",
        "print(binarizer.fit_transform(X))"
      ],
      "metadata": {
        "id": "nGEE2ja3QIwB",
        "colab": {
          "base_uri": "https://localhost:8080/"
        },
        "outputId": "5e42c594-5660-4433-9672-c5669c13807b"
      },
      "execution_count": 1,
      "outputs": [
        {
          "output_type": "stream",
          "name": "stdout",
          "text": [
            "[[0. 0. 1.]\n",
            " [1. 0. 0.]\n",
            " [0. 0. 1.]]\n"
          ]
        }
      ]
    },
    {
      "cell_type": "code",
      "source": [
        "from sklearn.preprocessing import Binarizer\n",
        "\n",
        "# Binarizer의 threshold 설정값. 분류 결정 임곗값임.\n",
        "custom_threshold = 0.5\n",
        "\n",
        "# predict_proba() 반환값의 두 번째 칼럼, 즉 Positive 클래스 칼럼 하나만 추출해 Binarizer를 적용\n",
        "pred_proba_1 = pred_proba[:,1].reshape(-1,1)\n",
        "\n",
        "binarizer = Binarizer(threshold=custom_threshold).fit(pred_proba_1)\n",
        "custom_predict = binarizer.transform(pred_proba_1)\n",
        "\n",
        "get_clf_eval(y_test, custom_predict)"
      ],
      "metadata": {
        "id": "iN5Xd8K1vcY_"
      },
      "execution_count": null,
      "outputs": []
    },
    {
      "cell_type": "code",
      "source": [
        "# Binarizer의 threshold 설정값을 0.4로 설정. 즉 분류 결정 임곗값을 0.5에서 0.4로 낮춤\n",
        "custom_threshold = 0.4\n",
        "pred_proba_1 = pred_proba[:,1].reshape(-1,1)\n",
        "binarizer = Binarizer(threshold=custom_threshold).fit(pred_proba_1)\n",
        "custom_predict = binarizer.transform(pred_proba_1)\n",
        "\n",
        "get_clf_eval(y_test, custom_predict)    # 임계값 낮추면 -> 재현율 값 올라가고, 정밀도 떨어짐\n",
        "\n",
        "# 분류 결정 임곗값이 낮아질수록 positive로 예측할 확률이 높아지고 True 값 많아짐 -> 재현율 값이 증가하고 정밀도 값 하락"
      ],
      "metadata": {
        "id": "GiOzZvG3vihk"
      },
      "execution_count": null,
      "outputs": []
    },
    {
      "cell_type": "code",
      "source": [
        "# 테스트를 수행할 모든 임곗값을 리스트 객체로 저장\n",
        "thresholds = [0.4, 0.45, 0.50, 0.55, 0.60]\n",
        "\n",
        "def get_eval_by_threshold(y_test, pred_proba_c1, thresholds):\n",
        "  # thresholds list객체 내의 값을 차례로 iteration하면서 Evaluation 수행.\n",
        "  for custom_threshold in thresholds:\n",
        "    binarizer = Binarizer(threshold=custom_threshold).fit(pred_proba_c1)\n",
        "    custom_predict = binarizer.transform(pred_proba_c1)\n",
        "    print('임곗값:', custom_threshold)\n",
        "    get_clf_eval(y_test, custom_predict)\n",
        "\n",
        "get_eval_by_threshold(y_test, pred_proba[:,1].reshape(-1,1), thresholds)"
      ],
      "metadata": {
        "id": "4a1iJPHBv_Es"
      },
      "execution_count": null,
      "outputs": []
    },
    {
      "cell_type": "markdown",
      "source": [
        "재현율을 향상시키면서 다른 수치를 어느 정도 감소하는 희생을 해야 한다면 임곗값 0.45가 적당"
      ],
      "metadata": {
        "id": "Oi2XAR_qwXEB"
      }
    },
    {
      "cell_type": "markdown",
      "source": [
        "### precision_recall_curve()\n",
        "입력 파라미터 : y_true, probas_pred\n",
        "\n",
        "반환 값 : 정밀도, 재현율"
      ],
      "metadata": {
        "id": "OefZezpfwpFw"
      }
    },
    {
      "cell_type": "code",
      "source": [
        "from sklearn.metrics import precision_recall_curve\n",
        "\n",
        "# 레이블 값이 1일 때의 예측 확률을 추출\n",
        "pred_proba_class1 = lr_clf.predict_proba(X_test)[:,1]\n",
        "\n",
        "# 실제값 데이터 세트와 레이블 값이 1일 때의 예측 확률을 precision_recall_curve 인자로 입력\n",
        "precisions, recalls, thresholds = precision_recall_curve(y_test,pred_proba_class1)\n",
        "print('반환된 분류 결정 임곗값 배열의 Shape:', thresholds.shape)\n",
        "\n",
        "# 반환된 임곗값 배열 로우가 147건이므로 샘플로 10건만 추출하되, 임곗값을 15 Step으로 추출\n",
        "thr_index = np.arange(0, thresholds.shape[0],15)\n",
        "print('샘플 추출을 위한 임곗값 배열의 index 10개:',thr_index)\n",
        "print('샘플용 10개의 임곗값: ',np.round(thresholds[thr_index],2))\n",
        "\n",
        "# 15 step 단위로 추출된 임곗값에 따른 정밀도와 재현율 값\n",
        "print('샘플 임곗값별 정밀도: ',np.round(precisions[thr_index],3))\n",
        "print('샘플 임곗값별 재현율: ',np.round(recalls[thr_index],3))"
      ],
      "metadata": {
        "id": "yFBpX8ILw6zO"
      },
      "execution_count": null,
      "outputs": []
    },
    {
      "cell_type": "code",
      "source": [
        "# precision_recall_curve() API를 정밀도와 재현율의 임곗값에 따른 값 변화를 곡선 형태의 그래프로 시각화하는 데 이용\n",
        "import matplotlib.pyplot as plt\n",
        "import matplotlib.ticker as ticker\n",
        "%matplotlib inline\n",
        "\n",
        "def precision_recall_curve_plot(y_test, pred_proba_c1):\n",
        "  # threshold ndarray와 이 threshold에 따른 정밀도, 재현율 ndarray 추출.\n",
        "  precisions, recalls, thresholds = precision_recall_curve(y_test, pred_proba_c1)\n",
        "\n",
        "  # X축을 threshold값으로, Y축은 정밀도, 재현율 값으로 각각 Plot 수행. 정밀도는 점선, 재현율은 실선으로 표시.\n",
        "  plt.figure(figsize=(8,6))\n",
        "  threshold_boundary = thresholds.shape[0]\n",
        "  plt.plot(thresholds, precisions[0:threshold_boundary], linestyle='--', label='precision')\n",
        "  plt.plot(thresholds, recalls[0:threshold_boundary],label='recall')\n",
        "\n",
        "  # threshold 값 X축의 Scale을 0.1 단위로 변경\n",
        "  start, end = plt.xlim()\n",
        "  plt.xticks(np.round(np.arange(start,end,0.1),2))\n",
        "\n",
        "  # x축, y축 label과 legend, 그리고 grid 설정\n",
        "  plt.xlabel('Threshold value'); plt.ylabel('Precision and Recall value')\n",
        "  plt.legend(); plt.grid()\n",
        "  plt.show()\n",
        "\n",
        "precision_recall_curve_plot(y_test, lr_clf.predict_proba(X_test)[:,1])"
      ],
      "metadata": {
        "id": "sgR4V64Ixo4H"
      },
      "execution_count": null,
      "outputs": []
    },
    {
      "cell_type": "markdown",
      "source": [
        "정밀도가 100%가 되는 방법 : 확신한 기준이 되는 경우만 Positive로 예측\n",
        "재현율이 100%가 되는 방법 : 모든 환자를 Positive로 예측"
      ],
      "metadata": {
        "id": "EGA1FpULyE48"
      }
    },
    {
      "cell_type": "markdown",
      "source": [
        "# F1 스코어\n",
        ": 정밀도와 재현율을 결합한 지표, 정밀도와 재현율이 어느 한 쪽으로 치우치지 않는 수치를 나타낼 때 상대적으로 높은 값"
      ],
      "metadata": {
        "id": "ibZgWyFEya2R"
      }
    },
    {
      "cell_type": "markdown",
      "source": [
        "![13.png](data:image/png;base64,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)"
      ],
      "metadata": {
        "id": "QJLQZvfCy1nc"
      }
    },
    {
      "cell_type": "code",
      "source": [
        "# F1 스코어를 나타내는 f1_score() API\n",
        "from sklearn.metrics import f1_score\n",
        "f1 = f1_score(y_test, pred)\n",
        "print('F1 스코어: {0:.4f}'.format(f1))"
      ],
      "metadata": {
        "id": "fD8a2i1yyacK"
      },
      "execution_count": null,
      "outputs": []
    },
    {
      "cell_type": "code",
      "source": [
        "def get_clf_eval(y_test, pred):\n",
        "  confusion = confusion_matrix(y_test, pred)\n",
        "  accuracy = accuracy_score(y_test, pred)\n",
        "  precision = precision_score(y_test, pred)\n",
        "  recall = recall_score(y_test, pred)\n",
        "  # F1 스코어 추가\n",
        "  f1 = f1_score(y_test, pred)\n",
        "  print('오차 행렬')\n",
        "  print(confusion)\n",
        "  # f1 score print 추가\n",
        "  print('정확도: {0:.4f}, 정밀도: {1:.4f}, 재현율: {2:.4f}, F1:{3:.4f}'.format(accuracy, precision, recall, f1))\n",
        "\n",
        "thresholds = [0.4, 0.45, 0.50, 0.55, 0.60]\n",
        "pred_proba = lr_clf.predict_proba(X_test)\n",
        "get_eval_by_threshold(y_test, pred_proba[:,1].reshape(-1,1), thresholds)\n",
        "# 입곗값이 0.6일 때 가장 좋은 F1 스코어"
      ],
      "metadata": {
        "id": "mDT1bvzIzUpf"
      },
      "execution_count": null,
      "outputs": []
    },
    {
      "cell_type": "markdown",
      "source": [
        "# ROC 곡선과 AUC\n",
        "ROC 곡선 : FPR이 변할 때 TPR이 어떻게 변하는지 나타내는 곡선. FPR이 X축, TPR이 Y축\n",
        "TPR = 재현율 = 민감도\n",
        "TNR = 특이성\n",
        "FPR = FP / (FP + TN) = 1- TNR = 1-특이성"
      ],
      "metadata": {
        "id": "2-qvfevKzzhD"
      }
    },
    {
      "cell_type": "code",
      "source": [
        "# roc_curve() API를 통해 FPR, TPR, 임곗값 구하기\n",
        "from sklearn.metrics import roc_curve\n",
        "\n",
        "# 레이블 값이 1일 때의 예측 확률을 추출\n",
        "pred_proba_class1 = lr_clf.predict_proba(X_test)[:,1]\n",
        "\n",
        "fprs, tprs, thresholds = roc_curve(y_test, pred_proba_class1)\n",
        "# 반환된 임곗값 배열 로우가 47건이므로 샘플로 10건만 추출하되, 임곗값을 5 step으로 추출.\n",
        "# thresholds[0]은 max(예측확률)+1로 임의 설정됨. 이를 제외하기 위해 np.arange는 1부터 시작\n",
        "thr_index = np.arange(1, thresholds.shape[0], 5)\n",
        "print('샘플 추출을 위한 임곗값 배열의 index 10개:', thr_index)\n",
        "print('샘플용 10개의 임곗값: ', np.round(thresholds[thr_index],2))\n",
        "\n",
        "# 5 step 단위로 추출된 임곗값에 따른 FPR, TPR 값\n",
        "print('샘플 임곗값별 FPR: ', np.round(fprs[thr_index], 3))\n",
        "print('샘플 임곗값별 TPR: ', np.round(tprs[thr_index], 3))"
      ],
      "metadata": {
        "id": "DOG2K_cY2Izt"
      },
      "execution_count": null,
      "outputs": []
    },
    {
      "cell_type": "code",
      "source": [
        "def roc_curve_plot(y_test, pred_proba_c1):\n",
        "  # 임곗값에 따른 FPR, TPR 값을 반환받음\n",
        "  fprs, tprs, thresholds = roc_curve(y_test, pred_proba_c1)\n",
        "  # ROC 곡선을 그래프 곡선으로 그림\n",
        "  plt.plot(fprs, tprs, label='ROC')\n",
        "  # 가운데 대각선 직선을 그림.\n",
        "  plt.plot([0,1],[0,1],'k-',label='Random')\n",
        "\n",
        "  # FPR X축의 Scale을 0.1 단위로 변경, X, Y축 명 설정 등\n",
        "  start, end = plt.xlim()\n",
        "  plt.xticks(np.round(np.arange(start,end,0.1),2))\n",
        "  plt.xlim(0,1);plt.ylim(0,1)\n",
        "  plt.xlabel('FPR( 1 - Sensitivity )'); plt.ylabel('TPR( Recall )')\n",
        "  plt.legend()\n",
        "\n",
        "roc_curve_plot(y_test, pred_proba[:,1])"
      ],
      "metadata": {
        "id": "RL7pmQCa2WmG"
      },
      "execution_count": null,
      "outputs": []
    },
    {
      "cell_type": "markdown",
      "source": [
        "AUC 값은 ROC 곡선 밑의 면적을 구한 것으로서 일반적으로 1에 가까울수록 좋은 수치"
      ],
      "metadata": {
        "id": "JfH-Vix63CHa"
      }
    },
    {
      "cell_type": "code",
      "source": [
        "from sklearn.metrics import accuracy_score, confusion_matrix, precision_score\n",
        "from sklearn.metrics import recall_score, f1_score, roc_auc_score\n",
        "import numpy as np\n",
        "\n",
        "print(confusion_matrix(y_target, preds))\n",
        "print(\"정확도:\",np.round(accuracy_score(y_target, preds),4))\n",
        "print(\"정밀도:\",np.round(precision_score(y_target, preds),4))\n",
        "print(\"재현율:\",np.round(recall_score(y_target, preds),4))"
      ],
      "metadata": {
        "id": "KvFvtlOl2_p-"
      },
      "execution_count": null,
      "outputs": []
    },
    {
      "cell_type": "code",
      "source": [
        "# get_clf_eval() 함수로 정확도, 정밀도, 재현율, F1 스코어, ROC AUC 값까지 출력\n",
        "def get_clf_eval(y_test, pred=None, pred_proba=None):\n",
        "  confusion = confusion_matrix(y_test, pred)\n",
        "  accuracy = accuracy_score(y_test, pred)\n",
        "  precision = precision_score(y_test, pred)\n",
        "  recall = recall_score(y_test, pred)\n",
        "  f1 = f1_score(y_test, pred)\n",
        "  # ROC-AUC 추가\n",
        "  roc_auc = roc_auc_score(y_test, pred_proba)\n",
        "  print('오차 행렬')\n",
        "  print(confusion)\n",
        "  # ROC-AUC print 추가\n",
        "  print('정확도: {0:.4f}, 정밀도: {1:.4f}, 재현율: {2:.4f},\\\n",
        "  F1: {3:.4f}, AUC:{4:.4f}'.format(accuracy, precision, recall, f1, roc_auc))"
      ],
      "metadata": {
        "id": "1PDzuTJQ3Y2C"
      },
      "execution_count": null,
      "outputs": []
    }
  ]
}